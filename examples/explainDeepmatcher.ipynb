{
  "nbformat": 4,
  "nbformat_minor": 0,
  "metadata": {
    "kernelspec": {
      "display_name": "Python 3",
      "language": "python",
      "name": "python3"
    },
    "language_info": {
      "codemirror_mode": {
        "name": "ipython",
        "version": 3
      },
      "file_extension": ".py",
      "mimetype": "text/x-python",
      "name": "python",
      "nbconvert_exporter": "python",
      "pygments_lexer": "ipython3",
      "version": "3.6.8"
    },
    "toc": {
      "base_numbering": 1,
      "nav_menu": {},
      "number_sections": true,
      "sideBar": true,
      "skip_h1_title": false,
      "title_cell": "Table of Contents",
      "title_sidebar": "Contents",
      "toc_cell": false,
      "toc_position": {},
      "toc_section_display": true,
      "toc_window_display": false
    },
    "varInspector": {
      "cols": {
        "lenName": 16,
        "lenType": 16,
        "lenVar": 40
      },
      "kernels_config": {
        "python": {
          "delete_cmd_postfix": "",
          "delete_cmd_prefix": "del ",
          "library": "var_list.py",
          "varRefreshCmd": "print(var_dic_list())"
        },
        "r": {
          "delete_cmd_postfix": ") ",
          "delete_cmd_prefix": "rm(",
          "library": "var_list.r",
          "varRefreshCmd": "cat(var_dic_list()) "
        }
      },
      "types_to_exclude": [
        "module",
        "function",
        "builtin_function_or_method",
        "instance",
        "_Feature"
      ],
      "window_display": false
    },
    "colab": {
      "name": "explainDeepmatcher",
      "provenance": [],
      "toc_visible": true,
      "include_colab_link": true
    }
  },
  "cells": [
    {
      "cell_type": "markdown",
      "metadata": {
        "id": "view-in-github",
        "colab_type": "text"
      },
      "source": [
        "<a href=\"https://colab.research.google.com/github/vincenzomartello/ERExplain/blob/master/examples/explainDeepmatcher.ipynb\" target=\"_parent\"><img src=\"https://colab.research.google.com/assets/colab-badge.svg\" alt=\"Open In Colab\"/></a>"
      ]
    },
    {
      "cell_type": "markdown",
      "metadata": {
        "id": "45e9fnHGZzu9",
        "colab_type": "text"
      },
      "source": [
        "# Explain Deepmatcher models at attribute-level"
      ]
    },
    {
      "cell_type": "markdown",
      "metadata": {
        "id": "4-Xr_PedZ6wK",
        "colab_type": "text"
      },
      "source": [
        "## Step 0 install required packages\n",
        "We install deepmatcher, as example of Entity Resolution system, and erexplain, to explain any ER model"
      ]
    },
    {
      "cell_type": "code",
      "metadata": {
        "id": "seDr7JJ9Z90A",
        "colab_type": "code",
        "colab": {
          "base_uri": "https://localhost:8080/",
          "height": 1000
        },
        "outputId": "6b90e0e5-9877-4482-cfcc-2fdc7334d6e5"
      },
      "source": [
        "!pip install deepmatcher\n",
        "!pip install erexplain"
      ],
      "execution_count": 1,
      "outputs": [
        {
          "output_type": "stream",
          "text": [
            "Collecting deepmatcher\n",
            "\u001b[?25l  Downloading https://files.pythonhosted.org/packages/76/60/8a22c3d94a1c6ebf123d6aa75f4ba5c6ddecb8fe3ac0660e7908b8aa5d11/deepmatcher-0.1.1.tar.gz (50kB)\n",
            "\r\u001b[K     |██████▌                         | 10kB 8.4MB/s eta 0:00:01\r\u001b[K     |█████████████                   | 20kB 1.5MB/s eta 0:00:01\r\u001b[K     |███████████████████▍            | 30kB 2.0MB/s eta 0:00:01\r\u001b[K     |█████████████████████████▉      | 40kB 2.3MB/s eta 0:00:01\r\u001b[K     |████████████████████████████████| 51kB 1.6MB/s \n",
            "\u001b[?25hRequirement already satisfied: torch>=1.0 in /usr/local/lib/python3.6/dist-packages (from deepmatcher) (1.5.1+cu101)\n",
            "Requirement already satisfied: tqdm in /usr/local/lib/python3.6/dist-packages (from deepmatcher) (4.41.1)\n",
            "Collecting pyprind\n",
            "  Downloading https://files.pythonhosted.org/packages/1e/30/e76fb0c45da8aef49ea8d2a90d4e7a6877b45894c25f12fb961f009a891e/PyPrind-2.11.2-py3-none-any.whl\n",
            "Requirement already satisfied: six in /usr/local/lib/python3.6/dist-packages (from deepmatcher) (1.12.0)\n",
            "Requirement already satisfied: Cython in /usr/local/lib/python3.6/dist-packages (from deepmatcher) (0.29.20)\n",
            "Requirement already satisfied: torchtext in /usr/local/lib/python3.6/dist-packages (from deepmatcher) (0.3.1)\n",
            "Requirement already satisfied: nltk>=3.2.5 in /usr/local/lib/python3.6/dist-packages (from deepmatcher) (3.2.5)\n",
            "Collecting fasttextmirror\n",
            "\u001b[?25l  Downloading https://files.pythonhosted.org/packages/fb/78/cf79876cfbb92bf7baae65472b19c680f6e20eaf55ca41721a53ea2014bb/fasttextmirror-0.8.22.tar.gz (45kB)\n",
            "\u001b[K     |████████████████████████████████| 51kB 4.4MB/s \n",
            "\u001b[?25hRequirement already satisfied: pandas in /usr/local/lib/python3.6/dist-packages (from deepmatcher) (1.0.5)\n",
            "Requirement already satisfied: dill in /usr/local/lib/python3.6/dist-packages (from deepmatcher) (0.3.2)\n",
            "Requirement already satisfied: future in /usr/local/lib/python3.6/dist-packages (from torch>=1.0->deepmatcher) (0.16.0)\n",
            "Requirement already satisfied: numpy in /usr/local/lib/python3.6/dist-packages (from torch>=1.0->deepmatcher) (1.18.5)\n",
            "Requirement already satisfied: requests in /usr/local/lib/python3.6/dist-packages (from torchtext->deepmatcher) (2.23.0)\n",
            "Collecting pybind11>=2.2\n",
            "\u001b[?25l  Downloading https://files.pythonhosted.org/packages/89/e3/d576f6f02bc75bacbc3d42494e8f1d063c95617d86648dba243c2cb3963e/pybind11-2.5.0-py2.py3-none-any.whl (296kB)\n",
            "\u001b[K     |████████████████████████████████| 296kB 8.2MB/s \n",
            "\u001b[?25hRequirement already satisfied: setuptools>=0.7.0 in /usr/local/lib/python3.6/dist-packages (from fasttextmirror->deepmatcher) (47.3.1)\n",
            "Requirement already satisfied: python-dateutil>=2.6.1 in /usr/local/lib/python3.6/dist-packages (from pandas->deepmatcher) (2.8.1)\n",
            "Requirement already satisfied: pytz>=2017.2 in /usr/local/lib/python3.6/dist-packages (from pandas->deepmatcher) (2018.9)\n",
            "Requirement already satisfied: idna<3,>=2.5 in /usr/local/lib/python3.6/dist-packages (from requests->torchtext->deepmatcher) (2.9)\n",
            "Requirement already satisfied: urllib3!=1.25.0,!=1.25.1,<1.26,>=1.21.1 in /usr/local/lib/python3.6/dist-packages (from requests->torchtext->deepmatcher) (1.24.3)\n",
            "Requirement already satisfied: certifi>=2017.4.17 in /usr/local/lib/python3.6/dist-packages (from requests->torchtext->deepmatcher) (2020.6.20)\n",
            "Requirement already satisfied: chardet<4,>=3.0.2 in /usr/local/lib/python3.6/dist-packages (from requests->torchtext->deepmatcher) (3.0.4)\n",
            "Building wheels for collected packages: deepmatcher, fasttextmirror\n",
            "  Building wheel for deepmatcher (setup.py) ... \u001b[?25l\u001b[?25hdone\n",
            "  Created wheel for deepmatcher: filename=deepmatcher-0.1.1-py2.py3-none-any.whl size=53976 sha256=2ceb1f9304c5ff171c3662f22ca9c5158e7739fdbf0a4b6effbf4bb706309cca\n",
            "  Stored in directory: /root/.cache/pip/wheels/d1/10/15/ca32c4f9cd2d4cd441f26b252698a9ee005b95f9153f0253eb\n",
            "  Building wheel for fasttextmirror (setup.py) ... \u001b[?25lerror\n",
            "\u001b[31m  ERROR: Failed building wheel for fasttextmirror\u001b[0m\n",
            "\u001b[?25h  Running setup.py clean for fasttextmirror\n",
            "Successfully built deepmatcher\n",
            "Failed to build fasttextmirror\n",
            "Installing collected packages: pyprind, pybind11, fasttextmirror, deepmatcher\n",
            "    Running setup.py install for fasttextmirror ... \u001b[?25l\u001b[?25hdone\n",
            "Successfully installed deepmatcher-0.1.1 fasttextmirror-0.8.22 pybind11-2.5.0 pyprind-2.11.2\n",
            "Collecting erexplain\n",
            "  Downloading https://files.pythonhosted.org/packages/5c/ef/331a578f3e43edd913654374a062f76199d99484354143be5eabf7782517/erexplain-0.1.2-py3-none-any.whl\n",
            "Requirement already satisfied: tqdm in /usr/local/lib/python3.6/dist-packages (from erexplain) (4.41.1)\n",
            "Requirement already satisfied: pandas in /usr/local/lib/python3.6/dist-packages (from erexplain) (1.0.5)\n",
            "Collecting mlxtend>=0.17.2\n",
            "\u001b[?25l  Downloading https://files.pythonhosted.org/packages/64/e2/1610a86284029abcad0ac9bc86cb19f9787fe6448ede467188b2a5121bb4/mlxtend-0.17.2-py2.py3-none-any.whl (1.3MB)\n",
            "\u001b[K     |████████████████████████████████| 1.3MB 3.7MB/s \n",
            "\u001b[?25hRequirement already satisfied: numpy in /usr/local/lib/python3.6/dist-packages (from erexplain) (1.18.5)\n",
            "Requirement already satisfied: pytz>=2017.2 in /usr/local/lib/python3.6/dist-packages (from pandas->erexplain) (2018.9)\n",
            "Requirement already satisfied: python-dateutil>=2.6.1 in /usr/local/lib/python3.6/dist-packages (from pandas->erexplain) (2.8.1)\n",
            "Requirement already satisfied: joblib>=0.13.2 in /usr/local/lib/python3.6/dist-packages (from mlxtend>=0.17.2->erexplain) (0.15.1)\n",
            "Requirement already satisfied: scikit-learn>=0.20.3 in /usr/local/lib/python3.6/dist-packages (from mlxtend>=0.17.2->erexplain) (0.22.2.post1)\n",
            "Requirement already satisfied: matplotlib>=3.0.0 in /usr/local/lib/python3.6/dist-packages (from mlxtend>=0.17.2->erexplain) (3.2.2)\n",
            "Requirement already satisfied: scipy>=1.2.1 in /usr/local/lib/python3.6/dist-packages (from mlxtend>=0.17.2->erexplain) (1.4.1)\n",
            "Requirement already satisfied: setuptools in /usr/local/lib/python3.6/dist-packages (from mlxtend>=0.17.2->erexplain) (47.3.1)\n",
            "Requirement already satisfied: six>=1.5 in /usr/local/lib/python3.6/dist-packages (from python-dateutil>=2.6.1->pandas->erexplain) (1.12.0)\n",
            "Requirement already satisfied: cycler>=0.10 in /usr/local/lib/python3.6/dist-packages (from matplotlib>=3.0.0->mlxtend>=0.17.2->erexplain) (0.10.0)\n",
            "Requirement already satisfied: kiwisolver>=1.0.1 in /usr/local/lib/python3.6/dist-packages (from matplotlib>=3.0.0->mlxtend>=0.17.2->erexplain) (1.2.0)\n",
            "Requirement already satisfied: pyparsing!=2.0.4,!=2.1.2,!=2.1.6,>=2.0.1 in /usr/local/lib/python3.6/dist-packages (from matplotlib>=3.0.0->mlxtend>=0.17.2->erexplain) (2.4.7)\n",
            "Installing collected packages: mlxtend, erexplain\n",
            "  Found existing installation: mlxtend 0.14.0\n",
            "    Uninstalling mlxtend-0.14.0:\n",
            "      Successfully uninstalled mlxtend-0.14.0\n",
            "Successfully installed erexplain-0.1.2 mlxtend-0.17.2\n"
          ],
          "name": "stdout"
        }
      ]
    },
    {
      "cell_type": "markdown",
      "metadata": {
        "id": "fPjVJ7p1Zzu_",
        "colab_type": "text"
      },
      "source": [
        "## Step 0 download beerAdvo-rateBeer dataset and record sources\n",
        " The datasets have been already prepared for deepmatcher processing"
      ]
    },
    {
      "cell_type": "code",
      "metadata": {
        "ExecuteTime": {
          "end_time": "2020-06-29T14:44:28.664055Z",
          "start_time": "2020-06-29T14:44:28.511302Z"
        },
        "id": "HjCYz-jDZzvA",
        "colab_type": "code",
        "colab": {}
      },
      "source": [
        "!mkdir beer_data"
      ],
      "execution_count": 2,
      "outputs": []
    },
    {
      "cell_type": "code",
      "metadata": {
        "ExecuteTime": {
          "end_time": "2020-06-29T14:46:06.084790Z",
          "start_time": "2020-06-29T14:46:03.897781Z"
        },
        "id": "nVYsRquwZzvG",
        "colab_type": "code",
        "colab": {}
      },
      "source": [
        "!wget -qnc -P beer_data https://raw.githubusercontent.com/vincenzomartello/deepmatcher-experiments/master/datasets/Structured/Beer/merged_test.csv\n",
        "!wget -qnc -P beer_data https://raw.githubusercontent.com/vincenzomartello/deepmatcher-experiments/master/datasets/Structured/Beer/merged_train.csv\n",
        "!!wget -qnc -P beer_data https://raw.githubusercontent.com/vincenzomartello/deepmatcher-experiments/master/datasets/Structured/Beer/merged_valid.csv\n",
        "!wget -qnc -P beer_data https://raw.githubusercontent.com/vincenzomartello/deepmatcher-experiments/master/datasets/Structured/Beer/tableA.csv\n",
        "!wget -qnc -P beer_data https://raw.githubusercontent.com/vincenzomartello/deepmatcher-experiments/master/datasets/Structured/Beer/tableB.csv"
      ],
      "execution_count": 5,
      "outputs": []
    },
    {
      "cell_type": "markdown",
      "metadata": {
        "id": "bgquA9wsZzvM",
        "colab_type": "text"
      },
      "source": [
        "## Step 1: Train deepmatcher model on beer dataset"
      ]
    },
    {
      "cell_type": "code",
      "metadata": {
        "ExecuteTime": {
          "end_time": "2020-06-29T14:47:10.813728Z",
          "start_time": "2020-06-29T14:47:07.876913Z"
        },
        "id": "31t5XNG8ZzvN",
        "colab_type": "code",
        "colab": {}
      },
      "source": [
        "import deepmatcher as dm"
      ],
      "execution_count": 7,
      "outputs": []
    },
    {
      "cell_type": "code",
      "metadata": {
        "id": "OqBxwmAGbL9-",
        "colab_type": "code",
        "colab": {
          "base_uri": "https://localhost:8080/",
          "height": 339
        },
        "outputId": "e3933910-9213-489e-e37f-b021b5340bdc"
      },
      "source": [
        "train,valid,test = dm.data.process('beer_data',train='merged_train.csv',test='merged_test.csv',\n",
        "                                   validation='merged_valid.csv',left_prefix='ltable_',right_prefix='rtable_')"
      ],
      "execution_count": 8,
      "outputs": [
        {
          "output_type": "stream",
          "text": [
            "\n",
            "Reading and processing data from \"beer_data/merged_train.csv\"\n",
            "0% [############################# ] 100% | ETA: 00:00:00\n",
            "Reading and processing data from \"beer_data/merged_valid.csv\"\n",
            "0% [############################# ] 100% | ETA: 00:00:00\n",
            "Reading and processing data from \"beer_data/merged_test.csv\"\n",
            "0% [############################# ] 100% | ETA: 00:00:00INFO:deepmatcher.data.field:Downloading vectors from https://drive.google.com/uc?export=download&id=1Vih8gAmgBnuYDxfblbT94P6WjB7s1ZSh\n"
          ],
          "name": "stderr"
        },
        {
          "output_type": "stream",
          "text": [
            "downloading from Google Drive; may take a few minutes\n"
          ],
          "name": "stdout"
        },
        {
          "output_type": "stream",
          "text": [
            "wiki.en.bin: 8.49GB [02:10, 64.9MB/s]\n",
            "INFO:deepmatcher.data.field:Extracting vectors into /root/.vector_cache\n",
            "\n",
            "Building vocabulary\n",
            "0% [#] 100% | ETA: 00:00:00\n",
            "Total time elapsed: 00:00:00\n",
            "\n",
            "Computing principal components\n",
            "0% [#] 100% | ETA: 00:00:00\n",
            "Total time elapsed: 00:00:00\n"
          ],
          "name": "stderr"
        }
      ]
    },
    {
      "cell_type": "code",
      "metadata": {
        "ExecuteTime": {
          "end_time": "2020-06-29T14:47:54.102693Z",
          "start_time": "2020-06-29T14:47:53.979209Z"
        },
        "id": "D7AwYAhgZzvW",
        "colab_type": "code",
        "colab": {
          "base_uri": "https://localhost:8080/",
          "height": 1000
        },
        "outputId": "ac544a1a-beea-4b30-fe30-e5a4aa77813d"
      },
      "source": [
        "model = dm.MatchingModel(attr_summarizer='hybrid')\n",
        "model.run_train(train,valid,epochs=20,best_save_path='./beer_hybrid.pth',\n",
        "                pos_neg_ratio=6)"
      ],
      "execution_count": 9,
      "outputs": [
        {
          "output_type": "stream",
          "text": [
            "* Number of trainable parameters: 9210006\n",
            "===>  TRAIN Epoch 1\n"
          ],
          "name": "stdout"
        },
        {
          "output_type": "stream",
          "text": [
            "/usr/local/lib/python3.6/dist-packages/torch/nn/functional.py:2247: UserWarning: reduction: 'mean' divides the total loss by both the batch size and the support size.'batchmean' divides only by the batch size, and aligns with the KL div math definition.'mean' will be changed to behave the same as 'batchmean' in the next major release.\n",
            "  warnings.warn(\"reduction: 'mean' divides the total loss by both the batch size and the support size.\"\n",
            "0% [█] 100% | ETA: 00:00:00\n",
            "Total time elapsed: 00:00:04\n"
          ],
          "name": "stderr"
        },
        {
          "output_type": "stream",
          "text": [
            "Finished Epoch 1 || Run Time:    8.8 | Load Time:    0.1 || F1:  30.97 | Prec:  18.82 | Rec:  87.50 || Ex/s:  30.24\n",
            "\n",
            "===>  EVAL Epoch 1\n",
            "Finished Epoch 1 || Run Time:    1.2 | Load Time:    0.0 || F1:  43.14 | Prec:  29.73 | Rec:  78.57 || Ex/s:  76.71\n",
            "\n",
            "* Best F1: tensor(43.1373)\n",
            "Saving best model...\n",
            "Done.\n",
            "---------------------\n",
            "\n",
            "===>  TRAIN Epoch 2\n"
          ],
          "name": "stdout"
        },
        {
          "output_type": "stream",
          "text": [
            "0% [█] 100% | ETA: 00:00:00\n",
            "Total time elapsed: 00:00:03\n"
          ],
          "name": "stderr"
        },
        {
          "output_type": "stream",
          "text": [
            "Finished Epoch 2 || Run Time:    8.5 | Load Time:    0.1 || F1:  44.69 | Prec:  28.78 | Rec: 100.00 || Ex/s:  31.14\n",
            "\n",
            "===>  EVAL Epoch 2\n",
            "Finished Epoch 2 || Run Time:    1.0 | Load Time:    0.0 || F1:  37.33 | Prec:  22.95 | Rec: 100.00 || Ex/s:  84.45\n",
            "\n",
            "---------------------\n",
            "\n",
            "===>  TRAIN Epoch 3\n"
          ],
          "name": "stdout"
        },
        {
          "output_type": "stream",
          "text": [
            "0% [█] 100% | ETA: 00:00:00\n",
            "Total time elapsed: 00:00:03\n"
          ],
          "name": "stderr"
        },
        {
          "output_type": "stream",
          "text": [
            "Finished Epoch 3 || Run Time:    8.5 | Load Time:    0.1 || F1:  45.88 | Prec:  30.00 | Rec:  97.50 || Ex/s:  31.30\n",
            "\n",
            "===>  EVAL Epoch 3\n",
            "Finished Epoch 3 || Run Time:    1.0 | Load Time:    0.0 || F1:  40.62 | Prec:  26.00 | Rec:  92.86 || Ex/s:  84.10\n",
            "\n",
            "---------------------\n",
            "\n",
            "===>  TRAIN Epoch 4\n"
          ],
          "name": "stdout"
        },
        {
          "output_type": "stream",
          "text": [
            "0% [█] 100% | ETA: 00:00:00\n",
            "Total time elapsed: 00:00:03\n"
          ],
          "name": "stderr"
        },
        {
          "output_type": "stream",
          "text": [
            "Finished Epoch 4 || Run Time:    8.5 | Load Time:    0.1 || F1:  58.21 | Prec:  41.49 | Rec:  97.50 || Ex/s:  31.30\n",
            "\n",
            "===>  EVAL Epoch 4\n",
            "Finished Epoch 4 || Run Time:    1.1 | Load Time:    0.0 || F1:  70.27 | Prec:  56.52 | Rec:  92.86 || Ex/s:  83.42\n",
            "\n",
            "* Best F1: tensor(70.2703)\n",
            "Saving best model...\n",
            "Done.\n",
            "---------------------\n",
            "\n",
            "===>  TRAIN Epoch 5\n"
          ],
          "name": "stdout"
        },
        {
          "output_type": "stream",
          "text": [
            "0% [█] 100% | ETA: 00:00:00\n",
            "Total time elapsed: 00:00:03\n"
          ],
          "name": "stderr"
        },
        {
          "output_type": "stream",
          "text": [
            "Finished Epoch 5 || Run Time:    8.5 | Load Time:    0.1 || F1:  65.04 | Prec:  48.19 | Rec: 100.00 || Ex/s:  31.15\n",
            "\n",
            "===>  EVAL Epoch 5\n",
            "Finished Epoch 5 || Run Time:    1.0 | Load Time:    0.0 || F1:  77.42 | Prec:  70.59 | Rec:  85.71 || Ex/s:  84.93\n",
            "\n",
            "* Best F1: tensor(77.4193)\n",
            "Saving best model...\n",
            "Done.\n",
            "---------------------\n",
            "\n",
            "===>  TRAIN Epoch 6\n"
          ],
          "name": "stdout"
        },
        {
          "output_type": "stream",
          "text": [
            "0% [█] 100% | ETA: 00:00:00\n",
            "Total time elapsed: 00:00:03\n"
          ],
          "name": "stderr"
        },
        {
          "output_type": "stream",
          "text": [
            "Finished Epoch 6 || Run Time:    8.5 | Load Time:    0.1 || F1:  79.21 | Prec:  65.57 | Rec: 100.00 || Ex/s:  31.21\n",
            "\n",
            "===>  EVAL Epoch 6\n",
            "Finished Epoch 6 || Run Time:    1.0 | Load Time:    0.0 || F1:  55.32 | Prec:  39.39 | Rec:  92.86 || Ex/s:  84.94\n",
            "\n",
            "---------------------\n",
            "\n",
            "===>  TRAIN Epoch 7\n"
          ],
          "name": "stdout"
        },
        {
          "output_type": "stream",
          "text": [
            "0% [█] 100% | ETA: 00:00:00\n",
            "Total time elapsed: 00:00:03\n"
          ],
          "name": "stderr"
        },
        {
          "output_type": "stream",
          "text": [
            "Finished Epoch 7 || Run Time:    8.5 | Load Time:    0.1 || F1:  89.89 | Prec:  81.63 | Rec: 100.00 || Ex/s:  31.38\n",
            "\n",
            "===>  EVAL Epoch 7\n",
            "Finished Epoch 7 || Run Time:    1.0 | Load Time:    0.0 || F1:  63.41 | Prec:  48.15 | Rec:  92.86 || Ex/s:  84.78\n",
            "\n",
            "---------------------\n",
            "\n",
            "===>  TRAIN Epoch 8\n"
          ],
          "name": "stdout"
        },
        {
          "output_type": "stream",
          "text": [
            "0% [█] 100% | ETA: 00:00:00\n",
            "Total time elapsed: 00:00:03\n"
          ],
          "name": "stderr"
        },
        {
          "output_type": "stream",
          "text": [
            "Finished Epoch 8 || Run Time:    8.5 | Load Time:    0.1 || F1:  88.89 | Prec:  80.00 | Rec: 100.00 || Ex/s:  31.28\n",
            "\n",
            "===>  EVAL Epoch 8\n",
            "Finished Epoch 8 || Run Time:    1.0 | Load Time:    0.0 || F1:  68.42 | Prec:  54.17 | Rec:  92.86 || Ex/s:  84.85\n",
            "\n",
            "---------------------\n",
            "\n",
            "===>  TRAIN Epoch 9\n"
          ],
          "name": "stdout"
        },
        {
          "output_type": "stream",
          "text": [
            "0% [█] 100% | ETA: 00:00:00\n",
            "Total time elapsed: 00:00:03\n"
          ],
          "name": "stderr"
        },
        {
          "output_type": "stream",
          "text": [
            "Finished Epoch 9 || Run Time:    8.5 | Load Time:    0.1 || F1:  94.12 | Prec:  88.89 | Rec: 100.00 || Ex/s:  31.31\n",
            "\n",
            "===>  EVAL Epoch 9\n",
            "Finished Epoch 9 || Run Time:    1.0 | Load Time:    0.0 || F1:  68.42 | Prec:  54.17 | Rec:  92.86 || Ex/s:  84.89\n",
            "\n",
            "---------------------\n",
            "\n",
            "===>  TRAIN Epoch 10\n"
          ],
          "name": "stdout"
        },
        {
          "output_type": "stream",
          "text": [
            "0% [█] 100% | ETA: 00:00:00\n",
            "Total time elapsed: 00:00:03\n"
          ],
          "name": "stderr"
        },
        {
          "output_type": "stream",
          "text": [
            "Finished Epoch 10 || Run Time:    8.5 | Load Time:    0.1 || F1:  96.39 | Prec:  93.02 | Rec: 100.00 || Ex/s:  31.31\n",
            "\n",
            "===>  EVAL Epoch 10\n",
            "Finished Epoch 10 || Run Time:    1.0 | Load Time:    0.0 || F1:  70.27 | Prec:  56.52 | Rec:  92.86 || Ex/s:  84.89\n",
            "\n",
            "---------------------\n",
            "\n",
            "===>  TRAIN Epoch 11\n"
          ],
          "name": "stdout"
        },
        {
          "output_type": "stream",
          "text": [
            "0% [█] 100% | ETA: 00:00:00\n",
            "Total time elapsed: 00:00:03\n"
          ],
          "name": "stderr"
        },
        {
          "output_type": "stream",
          "text": [
            "Finished Epoch 11 || Run Time:    8.5 | Load Time:    0.1 || F1:  98.77 | Prec:  97.56 | Rec: 100.00 || Ex/s:  31.30\n",
            "\n",
            "===>  EVAL Epoch 11\n",
            "Finished Epoch 11 || Run Time:    1.0 | Load Time:    0.0 || F1:  70.27 | Prec:  56.52 | Rec:  92.86 || Ex/s:  85.20\n",
            "\n",
            "---------------------\n",
            "\n",
            "===>  TRAIN Epoch 12\n"
          ],
          "name": "stdout"
        },
        {
          "output_type": "stream",
          "text": [
            "0% [█] 100% | ETA: 00:00:00\n",
            "Total time elapsed: 00:00:03\n"
          ],
          "name": "stderr"
        },
        {
          "output_type": "stream",
          "text": [
            "Finished Epoch 12 || Run Time:    8.5 | Load Time:    0.1 || F1:  98.77 | Prec:  97.56 | Rec: 100.00 || Ex/s:  31.34\n",
            "\n",
            "===>  EVAL Epoch 12\n",
            "Finished Epoch 12 || Run Time:    1.0 | Load Time:    0.0 || F1:  70.27 | Prec:  56.52 | Rec:  92.86 || Ex/s:  85.53\n",
            "\n",
            "---------------------\n",
            "\n",
            "===>  TRAIN Epoch 13\n"
          ],
          "name": "stdout"
        },
        {
          "output_type": "stream",
          "text": [
            "0% [█] 100% | ETA: 00:00:00\n",
            "Total time elapsed: 00:00:03\n"
          ],
          "name": "stderr"
        },
        {
          "output_type": "stream",
          "text": [
            "Finished Epoch 13 || Run Time:    8.5 | Load Time:    0.1 || F1:  98.77 | Prec:  97.56 | Rec: 100.00 || Ex/s:  31.26\n",
            "\n",
            "===>  EVAL Epoch 13\n",
            "Finished Epoch 13 || Run Time:    1.0 | Load Time:    0.0 || F1:  66.67 | Prec:  54.55 | Rec:  85.71 || Ex/s:  84.88\n",
            "\n",
            "---------------------\n",
            "\n",
            "===>  TRAIN Epoch 14\n"
          ],
          "name": "stdout"
        },
        {
          "output_type": "stream",
          "text": [
            "0% [█] 100% | ETA: 00:00:00\n",
            "Total time elapsed: 00:00:03\n"
          ],
          "name": "stderr"
        },
        {
          "output_type": "stream",
          "text": [
            "Finished Epoch 14 || Run Time:    8.5 | Load Time:    0.1 || F1:  98.77 | Prec:  97.56 | Rec: 100.00 || Ex/s:  31.34\n",
            "\n",
            "===>  EVAL Epoch 14\n",
            "Finished Epoch 14 || Run Time:    1.1 | Load Time:    0.0 || F1:  66.67 | Prec:  54.55 | Rec:  85.71 || Ex/s:  83.59\n",
            "\n",
            "---------------------\n",
            "\n",
            "===>  TRAIN Epoch 15\n"
          ],
          "name": "stdout"
        },
        {
          "output_type": "stream",
          "text": [
            "0% [█] 100% | ETA: 00:00:00\n",
            "Total time elapsed: 00:00:03\n"
          ],
          "name": "stderr"
        },
        {
          "output_type": "stream",
          "text": [
            "Finished Epoch 15 || Run Time:    8.5 | Load Time:    0.1 || F1:  98.77 | Prec:  97.56 | Rec: 100.00 || Ex/s:  31.39\n",
            "\n",
            "===>  EVAL Epoch 15\n",
            "Finished Epoch 15 || Run Time:    1.0 | Load Time:    0.0 || F1:  66.67 | Prec:  54.55 | Rec:  85.71 || Ex/s:  84.97\n",
            "\n",
            "---------------------\n",
            "\n",
            "===>  TRAIN Epoch 16\n"
          ],
          "name": "stdout"
        },
        {
          "output_type": "stream",
          "text": [
            "0% [█] 100% | ETA: 00:00:00\n",
            "Total time elapsed: 00:00:03\n"
          ],
          "name": "stderr"
        },
        {
          "output_type": "stream",
          "text": [
            "Finished Epoch 16 || Run Time:    8.5 | Load Time:    0.1 || F1:  98.77 | Prec:  97.56 | Rec: 100.00 || Ex/s:  31.10\n",
            "\n",
            "===>  EVAL Epoch 16\n",
            "Finished Epoch 16 || Run Time:    1.0 | Load Time:    0.0 || F1:  66.67 | Prec:  54.55 | Rec:  85.71 || Ex/s:  84.89\n",
            "\n",
            "---------------------\n",
            "\n",
            "===>  TRAIN Epoch 17\n"
          ],
          "name": "stdout"
        },
        {
          "output_type": "stream",
          "text": [
            "0% [█] 100% | ETA: 00:00:00\n",
            "Total time elapsed: 00:00:03\n"
          ],
          "name": "stderr"
        },
        {
          "output_type": "stream",
          "text": [
            "Finished Epoch 17 || Run Time:    8.5 | Load Time:    0.1 || F1:  98.77 | Prec:  97.56 | Rec: 100.00 || Ex/s:  31.11\n",
            "\n",
            "===>  EVAL Epoch 17\n",
            "Finished Epoch 17 || Run Time:    1.0 | Load Time:    0.0 || F1:  66.67 | Prec:  54.55 | Rec:  85.71 || Ex/s:  84.81\n",
            "\n",
            "---------------------\n",
            "\n",
            "===>  TRAIN Epoch 18\n"
          ],
          "name": "stdout"
        },
        {
          "output_type": "stream",
          "text": [
            "0% [█] 100% | ETA: 00:00:00\n",
            "Total time elapsed: 00:00:03\n"
          ],
          "name": "stderr"
        },
        {
          "output_type": "stream",
          "text": [
            "Finished Epoch 18 || Run Time:    8.5 | Load Time:    0.1 || F1:  98.77 | Prec:  97.56 | Rec: 100.00 || Ex/s:  31.34\n",
            "\n",
            "===>  EVAL Epoch 18\n",
            "Finished Epoch 18 || Run Time:    1.0 | Load Time:    0.0 || F1:  66.67 | Prec:  54.55 | Rec:  85.71 || Ex/s:  84.48\n",
            "\n",
            "---------------------\n",
            "\n",
            "===>  TRAIN Epoch 19\n"
          ],
          "name": "stdout"
        },
        {
          "output_type": "stream",
          "text": [
            "0% [█] 100% | ETA: 00:00:00\n",
            "Total time elapsed: 00:00:03\n"
          ],
          "name": "stderr"
        },
        {
          "output_type": "stream",
          "text": [
            "Finished Epoch 19 || Run Time:    8.5 | Load Time:    0.1 || F1:  98.77 | Prec:  97.56 | Rec: 100.00 || Ex/s:  31.33\n",
            "\n",
            "===>  EVAL Epoch 19\n",
            "Finished Epoch 19 || Run Time:    1.0 | Load Time:    0.0 || F1:  66.67 | Prec:  54.55 | Rec:  85.71 || Ex/s:  84.01\n",
            "\n",
            "---------------------\n",
            "\n",
            "===>  TRAIN Epoch 20\n"
          ],
          "name": "stdout"
        },
        {
          "output_type": "stream",
          "text": [
            "0% [█] 100% | ETA: 00:00:00\n",
            "Total time elapsed: 00:00:03\n"
          ],
          "name": "stderr"
        },
        {
          "output_type": "stream",
          "text": [
            "Finished Epoch 20 || Run Time:    8.5 | Load Time:    0.1 || F1:  98.77 | Prec:  97.56 | Rec: 100.00 || Ex/s:  31.42\n",
            "\n",
            "===>  EVAL Epoch 20\n",
            "Finished Epoch 20 || Run Time:    1.1 | Load Time:    0.0 || F1:  66.67 | Prec:  54.55 | Rec:  85.71 || Ex/s:  84.15\n",
            "\n",
            "---------------------\n",
            "\n",
            "Loading best model...\n",
            "Training done.\n"
          ],
          "name": "stdout"
        },
        {
          "output_type": "execute_result",
          "data": {
            "text/plain": [
              "tensor(77.4193)"
            ]
          },
          "metadata": {
            "tags": []
          },
          "execution_count": 9
        }
      ]
    },
    {
      "cell_type": "code",
      "metadata": {
        "id": "DcU9PblEZzvd",
        "colab_type": "code",
        "colab": {
          "base_uri": "https://localhost:8080/",
          "height": 84
        },
        "outputId": "66d09971-0537-47e9-fb0c-db56bd2ea3dd"
      },
      "source": [
        "model.run_eval(test)"
      ],
      "execution_count": 10,
      "outputs": [
        {
          "output_type": "stream",
          "text": [
            "===>  EVAL Epoch 5\n",
            "Finished Epoch 5 || Run Time:    1.3 | Load Time:    0.0 || F1:  66.67 | Prec:  57.89 | Rec:  78.57 || Ex/s:  69.89\n",
            "\n"
          ],
          "name": "stdout"
        },
        {
          "output_type": "execute_result",
          "data": {
            "text/plain": [
              "tensor(66.6667)"
            ]
          },
          "metadata": {
            "tags": []
          },
          "execution_count": 10
        }
      ]
    },
    {
      "cell_type": "markdown",
      "metadata": {
        "id": "T_YjPpgaoDCG",
        "colab_type": "text"
      },
      "source": [
        "## Explain model with triangles Method"
      ]
    },
    {
      "cell_type": "code",
      "metadata": {
        "id": "YDsTqWh_n9Ij",
        "colab_type": "code",
        "colab": {}
      },
      "source": [
        "from erexplain import explainSamples\n",
        "import pandas as pd\n",
        "import numpy as np\n",
        "import os,contextlib,random,string"
      ],
      "execution_count": 19,
      "outputs": []
    },
    {
      "cell_type": "markdown",
      "metadata": {
        "id": "VeVXiFzZonKA",
        "colab_type": "text"
      },
      "source": [
        "### Define wrapper function for deepmatcher"
      ]
    },
    {
      "cell_type": "code",
      "metadata": {
        "id": "nnxbg9RlomKk",
        "colab_type": "code",
        "colab": {}
      },
      "source": [
        "def wrapDm(test_df,model,ignore_columns=['label'],outputAttributes=False,batch_size=32):\n",
        "    data = test_df.copy().drop([c for c in ignore_columns if c in test_df.columns],axis=1)\n",
        "    if not('id' in data.columns):\n",
        "        data['id'] = np.arange(len(data))\n",
        "    tmp_name = \"./{}.csv\".format(\"\".join([random.choice(string.ascii_lowercase) for _ in range(10)]))\n",
        "    data.to_csv(tmp_name,index=False)\n",
        "    with open(os.devnull, 'w') as devnull:\n",
        "        with contextlib.redirect_stdout(devnull):\n",
        "            data_processed = dm.data.process_unlabeled(tmp_name, trained_model = model)\n",
        "            predictions = model.run_prediction(data_processed, output_attributes = outputAttributes,\\\n",
        "                                              batch_size=batch_size)\n",
        "            out_proba = predictions['match_score'].values\n",
        "    multi_proba = np.dstack((1-out_proba, out_proba)).squeeze()\n",
        "    os.remove(tmp_name)\n",
        "    if outputAttributes:\n",
        "        return predictions\n",
        "    else:\n",
        "        return multi_proba"
      ],
      "execution_count": 15,
      "outputs": []
    },
    {
      "cell_type": "code",
      "metadata": {
        "id": "YiFuO6z3pYdZ",
        "colab_type": "code",
        "colab": {}
      },
      "source": [
        "def getCorrectPredictions(df,model):\n",
        "    predictions = np.argmax(wrapDm(df,model,['label']),axis=1)\n",
        "    return df[predictions==df.label.values]"
      ],
      "execution_count": 17,
      "outputs": []
    },
    {
      "cell_type": "markdown",
      "metadata": {
        "id": "0y4r1abeothY",
        "colab_type": "text"
      },
      "source": [
        "### Run triangles method"
      ]
    },
    {
      "cell_type": "code",
      "metadata": {
        "id": "goU-7LuboMG6",
        "colab_type": "code",
        "colab": {}
      },
      "source": [
        "beeradvo = pd.read_csv('beer_data/tableA.csv',dtype=str)\n",
        "ratebeer = pd.read_csv('beer_data/tableB.csv',dtype=str)"
      ],
      "execution_count": 16,
      "outputs": []
    },
    {
      "cell_type": "code",
      "metadata": {
        "id": "DTvMam1trZmt",
        "colab_type": "code",
        "colab": {}
      },
      "source": [
        "!wget -qnc -P beer_data https://raw.githubusercontent.com/vincenzomartello/deepmatcher-experiments/master/datasets/Structured/Beer/augmented_test.csv"
      ],
      "execution_count": 21,
      "outputs": []
    },
    {
      "cell_type": "code",
      "metadata": {
        "id": "eSNKsKOlo35J",
        "colab_type": "code",
        "colab": {}
      },
      "source": [
        "test = pd.read_csv('beer_data/augmented_test.csv')\n",
        "correct = getCorrectPredictions(test,model)"
      ],
      "execution_count": 22,
      "outputs": []
    },
    {
      "cell_type": "code",
      "metadata": {
        "id": "NyWk9YudqB5P",
        "colab_type": "code",
        "colab": {
          "base_uri": "https://localhost:8080/",
          "height": 34
        },
        "outputId": "e0e0bb79-c849-4b7d-a067-62c859dd4a22"
      },
      "source": [
        "pos_explanations,flipped_pos =  explainSamples(test,[beeradvo,ratebeer],model,wrapDm,\n",
        "                                               class_to_explain=1,maxLenAttributeSet=3)"
      ],
      "execution_count": 24,
      "outputs": [
        {
          "output_type": "stream",
          "text": [
            "100%|██████████| 62/62 [00:16<00:00,  3.72it/s]\n"
          ],
          "name": "stderr"
        }
      ]
    },
    {
      "cell_type": "code",
      "metadata": {
        "id": "5-8pKzeqr-Xw",
        "colab_type": "code",
        "colab": {
          "base_uri": "https://localhost:8080/",
          "height": 34
        },
        "outputId": "d73e6392-bce5-4b57-dc57-65b2835ce6ff"
      },
      "source": [
        "neg_explanations,flipped_neg =  explainSamples(test,[beeradvo,ratebeer],model,wrapDm,\n",
        "                                               class_to_explain=0,maxLenAttributeSet=3)"
      ],
      "execution_count": 25,
      "outputs": [
        {
          "output_type": "stream",
          "text": [
            "100%|██████████| 62/62 [00:16<00:00,  3.78it/s]\n"
          ],
          "name": "stderr"
        }
      ]
    },
    {
      "cell_type": "code",
      "metadata": {
        "id": "OqoBSXWosHQp",
        "colab_type": "code",
        "colab": {
          "base_uri": "https://localhost:8080/",
          "height": 282
        },
        "outputId": "1f95e42e-d4fe-4273-d35c-1311fb36f80b"
      },
      "source": [
        "pos_explanations[0:4].plot.barh(color='green',grid=True,xlim=(0,1))"
      ],
      "execution_count": 29,
      "outputs": [
        {
          "output_type": "execute_result",
          "data": {
            "text/plain": [
              "<matplotlib.axes._subplots.AxesSubplot at 0x7fab9ae91e10>"
            ]
          },
          "metadata": {
            "tags": []
          },
          "execution_count": 29
        },
        {
          "output_type": "display_data",
          "data": {
            "image/png": "[encoded data removed]",
            "text/plain": [
              "<Figure size 432x288 with 1 Axes>"
            ]
          },
          "metadata": {
            "tags": [],
            "needs_background": "light"
          }
        }
      ]
    },
    {
      "cell_type": "code",
      "metadata": {
        "id": "9USXUM34sWkH",
        "colab_type": "code",
        "colab": {
          "base_uri": "https://localhost:8080/",
          "height": 282
        },
        "outputId": "5cb0817b-14b4-49bb-e6c1-7a0864a56660"
      },
      "source": [
        "neg_explanations[0:4].plot.barh(color='red',grid=True,xlim=(0,1))"
      ],
      "execution_count": 30,
      "outputs": [
        {
          "output_type": "execute_result",
          "data": {
            "text/plain": [
              "<matplotlib.axes._subplots.AxesSubplot at 0x7fab9b0af978>"
            ]
          },
          "metadata": {
            "tags": []
          },
          "execution_count": 30
        },
        {
          "output_type": "display_data",
          "data": {
            "image/png": "[encoded data removed]",
            "text/plain": [
              "<Figure size 432x288 with 1 Axes>"
            ]
          },
          "metadata": {
            "tags": [],
            "needs_background": "light"
          }
        }
      ]
    },
    {
      "cell_type": "code",
      "metadata": {
        "id": "QggVFniusaqH",
        "colab_type": "code",
        "colab": {}
      },
      "source": [
        ""
      ],
      "execution_count": null,
      "outputs": []
    }
  ]
}